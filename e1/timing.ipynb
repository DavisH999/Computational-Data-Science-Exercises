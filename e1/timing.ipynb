{
 "cells": [
  {
   "cell_type": "code",
   "execution_count": 2,
   "metadata": {
    "ExecuteTime": {
     "end_time": "2023-09-15T23:11:37.185814Z",
     "start_time": "2023-09-15T23:11:36.910880Z"
    }
   },
   "outputs": [],
   "source": [
    "from monthly_totals import *"
   ]
  },
  {
   "cell_type": "code",
   "execution_count": 3,
   "metadata": {
    "ExecuteTime": {
     "end_time": "2023-09-15T23:11:37.192180Z",
     "start_time": "2023-09-15T23:11:37.186498Z"
    }
   },
   "outputs": [],
   "source": [
    "data = get_precip_data()"
   ]
  },
  {
   "cell_type": "code",
   "execution_count": 4,
   "metadata": {
    "ExecuteTime": {
     "end_time": "2023-09-15T23:11:37.202074Z",
     "start_time": "2023-09-15T23:11:37.196653Z"
    }
   },
   "outputs": [],
   "source": [
    "totals_pd, counts_pd = pivot_months_pandas(data)"
   ]
  },
  {
   "cell_type": "code",
   "execution_count": 5,
   "metadata": {
    "ExecuteTime": {
     "end_time": "2023-09-15T23:11:37.301920Z",
     "start_time": "2023-09-15T23:11:37.234557Z"
    }
   },
   "outputs": [],
   "source": [
    "totals_loop, counts_loop = pivot_months_loops(data)"
   ]
  },
  {
   "cell_type": "code",
   "execution_count": 6,
   "metadata": {
    "ExecuteTime": {
     "end_time": "2023-09-15T23:11:37.352999Z",
     "start_time": "2023-09-15T23:11:37.306485Z"
    }
   },
   "outputs": [
    {
     "data": {
      "text/plain": "month                           2016-01  2016-02  2016-03  2016-04  2016-05  \\\nname                                                                          \nBURNABY SIMON FRASER U             1809     1482     2159      374      606   \nCALGARY INTL A                      121       22       46       40      683   \nGANDER INTL A                       896     1232      992     1106     1236   \nHALIFAX INTL A                     1491     1473     1452     1595     1001   \nREVELSTOKE                          930      561      533      204      546   \nSHERBROOKE                          183      982      621      471      667   \nTORONTO LESTER B. PEARSON INT'      363      491      729      681      346   \nVANCOUVER INTL A                   1682     1304     1616      242      516   \nYELLOWKNIFE A                       220       90       28      120       98   \n\nmonth                           2016-06  2016-07  2016-08  2016-09  2016-10  \\\nname                                                                          \nBURNABY SIMON FRASER U              428      442       68      956     1429   \nCALGARY INTL A                      616     2061      834      253      276   \nGANDER INTL A                      1015     1264     1096     1026     2422   \nHALIFAX INTL A                      725      734      445      845     2185   \nREVELSTOKE                          748      662      274      785     1620   \nSHERBROOKE                          671      525     1599      433     1176   \nTORONTO LESTER B. PEARSON INT'      269      399      667      663      452   \nVANCOUVER INTL A                    582      328      138      784     2034   \nYELLOWKNIFE A                       306      154      280      488      158   \n\nmonth                           2016-11  2016-12  \nname                                              \nBURNABY SIMON FRASER U             1349     1846  \nCALGARY INTL A                       27      224  \nGANDER INTL A                      1184     1099  \nHALIFAX INTL A                     1305     1835  \nREVELSTOKE                         1293      295  \nSHERBROOKE                          594      627  \nTORONTO LESTER B. PEARSON INT'      497      821  \nVANCOUVER INTL A                   2402     1520  \nYELLOWKNIFE A                       176      116  ",
      "text/html": "<div>\n<style scoped>\n    .dataframe tbody tr th:only-of-type {\n        vertical-align: middle;\n    }\n\n    .dataframe tbody tr th {\n        vertical-align: top;\n    }\n\n    .dataframe thead th {\n        text-align: right;\n    }\n</style>\n<table border=\"1\" class=\"dataframe\">\n  <thead>\n    <tr style=\"text-align: right;\">\n      <th>month</th>\n      <th>2016-01</th>\n      <th>2016-02</th>\n      <th>2016-03</th>\n      <th>2016-04</th>\n      <th>2016-05</th>\n      <th>2016-06</th>\n      <th>2016-07</th>\n      <th>2016-08</th>\n      <th>2016-09</th>\n      <th>2016-10</th>\n      <th>2016-11</th>\n      <th>2016-12</th>\n    </tr>\n    <tr>\n      <th>name</th>\n      <th></th>\n      <th></th>\n      <th></th>\n      <th></th>\n      <th></th>\n      <th></th>\n      <th></th>\n      <th></th>\n      <th></th>\n      <th></th>\n      <th></th>\n      <th></th>\n    </tr>\n  </thead>\n  <tbody>\n    <tr>\n      <th>BURNABY SIMON FRASER U</th>\n      <td>1809</td>\n      <td>1482</td>\n      <td>2159</td>\n      <td>374</td>\n      <td>606</td>\n      <td>428</td>\n      <td>442</td>\n      <td>68</td>\n      <td>956</td>\n      <td>1429</td>\n      <td>1349</td>\n      <td>1846</td>\n    </tr>\n    <tr>\n      <th>CALGARY INTL A</th>\n      <td>121</td>\n      <td>22</td>\n      <td>46</td>\n      <td>40</td>\n      <td>683</td>\n      <td>616</td>\n      <td>2061</td>\n      <td>834</td>\n      <td>253</td>\n      <td>276</td>\n      <td>27</td>\n      <td>224</td>\n    </tr>\n    <tr>\n      <th>GANDER INTL A</th>\n      <td>896</td>\n      <td>1232</td>\n      <td>992</td>\n      <td>1106</td>\n      <td>1236</td>\n      <td>1015</td>\n      <td>1264</td>\n      <td>1096</td>\n      <td>1026</td>\n      <td>2422</td>\n      <td>1184</td>\n      <td>1099</td>\n    </tr>\n    <tr>\n      <th>HALIFAX INTL A</th>\n      <td>1491</td>\n      <td>1473</td>\n      <td>1452</td>\n      <td>1595</td>\n      <td>1001</td>\n      <td>725</td>\n      <td>734</td>\n      <td>445</td>\n      <td>845</td>\n      <td>2185</td>\n      <td>1305</td>\n      <td>1835</td>\n    </tr>\n    <tr>\n      <th>REVELSTOKE</th>\n      <td>930</td>\n      <td>561</td>\n      <td>533</td>\n      <td>204</td>\n      <td>546</td>\n      <td>748</td>\n      <td>662</td>\n      <td>274</td>\n      <td>785</td>\n      <td>1620</td>\n      <td>1293</td>\n      <td>295</td>\n    </tr>\n    <tr>\n      <th>SHERBROOKE</th>\n      <td>183</td>\n      <td>982</td>\n      <td>621</td>\n      <td>471</td>\n      <td>667</td>\n      <td>671</td>\n      <td>525</td>\n      <td>1599</td>\n      <td>433</td>\n      <td>1176</td>\n      <td>594</td>\n      <td>627</td>\n    </tr>\n    <tr>\n      <th>TORONTO LESTER B. PEARSON INT'</th>\n      <td>363</td>\n      <td>491</td>\n      <td>729</td>\n      <td>681</td>\n      <td>346</td>\n      <td>269</td>\n      <td>399</td>\n      <td>667</td>\n      <td>663</td>\n      <td>452</td>\n      <td>497</td>\n      <td>821</td>\n    </tr>\n    <tr>\n      <th>VANCOUVER INTL A</th>\n      <td>1682</td>\n      <td>1304</td>\n      <td>1616</td>\n      <td>242</td>\n      <td>516</td>\n      <td>582</td>\n      <td>328</td>\n      <td>138</td>\n      <td>784</td>\n      <td>2034</td>\n      <td>2402</td>\n      <td>1520</td>\n    </tr>\n    <tr>\n      <th>YELLOWKNIFE A</th>\n      <td>220</td>\n      <td>90</td>\n      <td>28</td>\n      <td>120</td>\n      <td>98</td>\n      <td>306</td>\n      <td>154</td>\n      <td>280</td>\n      <td>488</td>\n      <td>158</td>\n      <td>176</td>\n      <td>116</td>\n    </tr>\n  </tbody>\n</table>\n</div>"
     },
     "execution_count": 6,
     "metadata": {},
     "output_type": "execute_result"
    }
   ],
   "source": [
    "totals_loop  # look how nicely Jupyter displays a DataFrame..."
   ]
  },
  {
   "cell_type": "code",
   "execution_count": 7,
   "metadata": {
    "ExecuteTime": {
     "end_time": "2023-09-15T23:11:37.353410Z",
     "start_time": "2023-09-15T23:11:37.313406Z"
    }
   },
   "outputs": [
    {
     "data": {
      "text/plain": "0.0"
     },
     "execution_count": 7,
     "metadata": {},
     "output_type": "execute_result"
    }
   ],
   "source": [
    "abs(totals_pd.values - totals_loop.values).sum() # the two totals should be the same"
   ]
  },
  {
   "cell_type": "code",
   "execution_count": 8,
   "metadata": {
    "ExecuteTime": {
     "end_time": "2023-09-15T23:11:37.353543Z",
     "start_time": "2023-09-15T23:11:37.316976Z"
    }
   },
   "outputs": [
    {
     "data": {
      "text/plain": "0.0"
     },
     "execution_count": 8,
     "metadata": {},
     "output_type": "execute_result"
    }
   ],
   "source": [
    "abs(counts_pd.values - counts_loop.values).sum() # ...counts too."
   ]
  },
  {
   "cell_type": "code",
   "execution_count": 9,
   "metadata": {
    "ExecuteTime": {
     "end_time": "2023-09-15T23:11:40.262797Z",
     "start_time": "2023-09-15T23:11:37.319660Z"
    }
   },
   "outputs": [
    {
     "name": "stdout",
     "output_type": "stream",
     "text": [
      "3.62 ms ± 472 µs per loop (mean ± std. dev. of 7 runs, 100 loops each)\n"
     ]
    }
   ],
   "source": [
    "%timeit pivot_months_pandas(data)"
   ]
  },
  {
   "cell_type": "code",
   "execution_count": 10,
   "metadata": {
    "ExecuteTime": {
     "end_time": "2023-09-15T23:11:47.915280Z",
     "start_time": "2023-09-15T23:11:40.259522Z"
    }
   },
   "outputs": [
    {
     "name": "stdout",
     "output_type": "stream",
     "text": [
      "94.3 ms ± 3.94 ms per loop (mean ± std. dev. of 7 runs, 10 loops each)\n"
     ]
    }
   ],
   "source": [
    "%timeit pivot_months_loops(data)"
   ]
  },
  {
   "cell_type": "code",
   "execution_count": 10,
   "metadata": {
    "ExecuteTime": {
     "end_time": "2023-09-15T23:11:47.916134Z",
     "start_time": "2023-09-15T23:11:47.913531Z"
    }
   },
   "outputs": [],
   "source": []
  }
 ],
 "metadata": {
  "kernelspec": {
   "display_name": "Python 3",
   "language": "python",
   "name": "python3"
  },
  "language_info": {
   "codemirror_mode": {
    "name": "ipython",
    "version": 3
   },
   "file_extension": ".py",
   "mimetype": "text/x-python",
   "name": "python",
   "nbconvert_exporter": "python",
   "pygments_lexer": "ipython3",
   "version": "3.7.5"
  }
 },
 "nbformat": 4,
 "nbformat_minor": 2
}
